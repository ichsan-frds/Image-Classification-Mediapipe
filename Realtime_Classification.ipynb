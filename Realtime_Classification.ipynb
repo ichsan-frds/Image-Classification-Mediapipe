{
 "cells": [
  {
   "cell_type": "markdown",
   "id": "078edfd0",
   "metadata": {},
   "source": [
    "## Import Packages"
   ]
  },
  {
   "cell_type": "code",
   "execution_count": null,
   "id": "49c7ffd5",
   "metadata": {},
   "outputs": [],
   "source": [
    "import os\n",
    "import mediapipe as mp\n",
    "import cv2\n",
    "import time"
   ]
  },
  {
   "cell_type": "markdown",
   "id": "53aa7060",
   "metadata": {},
   "source": [
    "## Import Model & Configurations"
   ]
  },
  {
   "cell_type": "code",
   "execution_count": null,
   "id": "379e6177",
   "metadata": {},
   "outputs": [],
   "source": [
    "# Path Model TF Lite\n",
    "model_path = os.path.join(os.getcwd(), 'model/efficientnet_lite2_float.tflite')\n",
    "\n",
    "# Model Config\n",
    "BaseOptions = mp.tasks.BaseOptions\n",
    "ImageClassifier = mp.tasks.vision.ImageClassifier\n",
    "ImageClassifierOptions = mp.tasks.vision.ImageClassifierOptions\n",
    "VisionRunningMode = mp.tasks.vision.RunningMode\n",
    "\n",
    "options = ImageClassifierOptions(\n",
    "    base_options=BaseOptions(model_asset_path=model_path),\n",
    "    max_results=5,\n",
    "    running_mode=VisionRunningMode.IMAGE)"
   ]
  },
  {
   "cell_type": "markdown",
   "id": "6c3822e3",
   "metadata": {},
   "source": [
    "## Inference"
   ]
  },
  {
   "cell_type": "code",
   "execution_count": null,
   "id": "421eb829",
   "metadata": {},
   "outputs": [],
   "source": [
    "with ImageClassifier.create_from_options(options) as classifier:\n",
    "    # Mengambil gambar dari Webcam\n",
    "    cap = cv2.VideoCapture(0)\n",
    "\n",
    "    # Error Handling Webcam tidak accessible\n",
    "    if not cap.isOpened():\n",
    "        print(\"Camera failed to open.\")\n",
    "        exit()\n",
    "\n",
    "    while True:\n",
    "        ret, frame = cap.read()\n",
    "        if not ret:\n",
    "            break\n",
    "\n",
    "        # Convert ke RGB lalu Mediapipe Image\n",
    "        frame_rgb = cv2.cvtColor(frame, cv2.COLOR_BGR2RGB)\n",
    "        mp_image = mp.Image(image_format=mp.ImageFormat.SRGB, data=frame_rgb)\n",
    "\n",
    "        # Menghitung Latensi & Melakukan Inference\n",
    "        start_time = time.time()\n",
    "        result = classifier.classify(mp_image)\n",
    "        latency = (time.time() - start_time) * 1000  # ms\n",
    "\n",
    "        # Menyimpan hasil klasifikasi dan menampilkannya di window\n",
    "        if result and result.classifications:\n",
    "            top_class = result.classifications[0].categories[0]\n",
    "            label = f\"{top_class.category_name} ({top_class.score:.2f})\"\n",
    "            cv2.putText(frame, label, (10, 30), cv2.FONT_HERSHEY_SIMPLEX, 1, (0, 255, 0), 2)\n",
    "            cv2.putText(frame, f\"Latency: {latency:.1f} ms\", (10, 65), cv2.FONT_HERSHEY_SIMPLEX, 0.8, (255, 255, 0), 2)\n",
    "\n",
    "        # Menampilkan frame di window\n",
    "        cv2.imshow(\"Live Classification\", frame)\n",
    "\n",
    "        if cv2.waitKey(1) & 0xFF == ord('q'):\n",
    "            break\n",
    "\n",
    "    cap.release()\n",
    "    cv2.destroyAllWindows()"
   ]
  }
 ],
 "metadata": {
  "kernelspec": {
   "display_name": "computer-vision-env",
   "language": "python",
   "name": "python3"
  },
  "language_info": {
   "codemirror_mode": {
    "name": "ipython",
    "version": 3
   },
   "file_extension": ".py",
   "mimetype": "text/x-python",
   "name": "python",
   "nbconvert_exporter": "python",
   "pygments_lexer": "ipython3",
   "version": "3.12.11"
  }
 },
 "nbformat": 4,
 "nbformat_minor": 5
}
